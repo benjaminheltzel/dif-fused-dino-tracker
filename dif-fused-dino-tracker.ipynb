{
  "cells": [
    {
      "cell_type": "markdown",
      "metadata": {
        "id": "WOfybQ4Eo3-m"
      },
      "source": [
        "# 0. Setup"
      ]
    },
    {
      "cell_type": "markdown",
      "metadata": {
        "id": "YPvOSL96fN9t"
      },
      "source": [
        "### Either: Baseline"
      ]
    },
    {
      "cell_type": "code",
      "execution_count": null,
      "metadata": {
        "id": "jTEl-J4eLcR9"
      },
      "outputs": [],
      "source": [
        "!git clone https://github.com/benjaminheltzel/baseline-dino-tracker.git\n",
        "\n",
        "import os\n",
        "\n",
        "source_file = \"baseline-dino-tracker\"\n",
        "destination_file = \"dino-tracker\"\n",
        "\n",
        "os.rename(source_file, destination_file)\n",
        "\n",
        "print(f\"Renamed {source_file} to {destination_file}\")"
      ]
    },
    {
      "cell_type": "markdown",
      "metadata": {
        "id": "dUkQDrS7fTkt"
      },
      "source": [
        "### Or: Fused Pipeline"
      ]
    },
    {
      "cell_type": "code",
      "execution_count": null,
      "metadata": {
        "id": "2A8wfXnUfdh2"
      },
      "outputs": [],
      "source": [
        "!git clone https://github.com/benjaminheltzel/diffused-dino-tracker.git\n",
        "\n",
        "import os\n",
        "\n",
        "source_file = \"diffused-dino-tracker\"\n",
        "destination_file = \"dino-tracker\"\n",
        "\n",
        "os.rename(source_file, destination_file)\n",
        "\n",
        "print(f\"Renamed {source_file} to {destination_file}\")"
      ]
    },
    {
      "cell_type": "markdown",
      "metadata": {
        "id": "2aLC1_AAfjKY"
      },
      "source": [
        "### Installation"
      ]
    },
    {
      "cell_type": "markdown",
      "metadata": {
        "id": "aRIwPA5GgXaw"
      },
      "source": [
        "Install conda"
      ]
    },
    {
      "cell_type": "code",
      "execution_count": null,
      "metadata": {
        "id": "XnjpP57MMVcA"
      },
      "outputs": [],
      "source": [
        "%cd dino-tracker\n",
        "!pip install -q condacolab\n",
        "import condacolab\n",
        "condacolab.install()"
      ]
    },
    {
      "cell_type": "markdown",
      "metadata": {
        "id": "JorJzVH6to-7"
      },
      "source": [
        "Setup env & install requirements"
      ]
    },
    {
      "cell_type": "code",
      "execution_count": null,
      "metadata": {
        "id": "Cc9q7DolMXPz"
      },
      "outputs": [],
      "source": [
        "%cd dino-tracker\n",
        "!conda create -n dino-tracker python==3.9 -y\n",
        "import condacolab\n",
        "condacolab.check()\n",
        "!activate dino-tracker\n",
        "!pip install -r requirements.txt"
      ]
    },
    {
      "cell_type": "markdown",
      "metadata": {
        "id": "DDvPWC_RgQB9"
      },
      "source": [
        "Check if data accessible"
      ]
    },
    {
      "cell_type": "code",
      "execution_count": null,
      "metadata": {
        "collapsed": true,
        "id": "Z2FGfVCIMdU_"
      },
      "outputs": [],
      "source": [
        "%cd dino-tracker\n",
        "!ls dataset/horsejump/video"
      ]
    },
    {
      "cell_type": "markdown",
      "metadata": {
        "id": "CJ6pYZD1lD4h"
      },
      "source": [
        "Utils for saving results"
      ]
    },
    {
      "cell_type": "code",
      "execution_count": null,
      "metadata": {
        "id": "kvaw3djzlCZb"
      },
      "outputs": [],
      "source": [
        "from google.colab import drive\n",
        "import shutil\n",
        "\n",
        "drive.mount('/content/drive')\n",
        "\n",
        "def copy_folder(source_folder, destination_drive_folder):\n",
        "    \"\"\"\n",
        "    Copies a folder from the Colab environment to Google Drive.\n",
        "\n",
        "    Args:\n",
        "        source_folder (str): Path to the source folder in the Colab environment.\n",
        "        destination_drive_folder (str): Path to the destination folder in Google Drive.\n",
        "    \"\"\"\n",
        "    try:\n",
        "        shutil.copytree(source_folder, destination_drive_folder, dirs_exist_ok=True)\n",
        "        print(f\"Folder '{source_folder}' has been copied to '{destination_drive_folder}'.\")\n",
        "    except Exception as e:\n",
        "        print(f\"Error copying '{source_folder}' to '{destination_drive_folder}': {e}\")"
      ]
    },
    {
      "cell_type": "markdown",
      "source": [
        "# Run full pipeline\n",
        "\n",
        "1.   Preprocessing: Extract dino embeddings, etc\n",
        "2.   Train on video\n",
        "3.   Run inference\n",
        "4.   Create visualizations\n",
        "5.   (optional) Save to Google Drive as backup"
      ],
      "metadata": {
        "id": "Xr-RlHKStIpS"
      }
    },
    {
      "cell_type": "code",
      "execution_count": null,
      "metadata": {
        "id": "1QqctF95YT_w"
      },
      "outputs": [],
      "source": [
        "import os\n",
        "os.environ['ID'] = '0'\n",
        "id = os.environ.get('ID')\n",
        "\n",
        "!PYTHONPATH=$(pwd):$PYTHONPATH python ./preprocessing/main_preprocessing.py \\\n",
        "    --config ./config/preprocessing.yaml \\\n",
        "    --data-path ./dataset/tapvid-davis/$ID/\n",
        "\n",
        "!PYTHONPATH=$(pwd):$PYTHONPATH python ./train.py \\\n",
        "    --config ./config/train.yaml \\\n",
        "    --data-path ./dataset/tapvid-davis/$ID/\n",
        "\n",
        "!PYTHONPATH=$(pwd):$PYTHONPATH python ./inference_grid.py \\\n",
        "    --config ./config/train.yaml \\\n",
        "    --data-path ./dataset/tapvid-davis/$ID/ \\\n",
        "    --use-segm-mask\n",
        "\n",
        "!PYTHONPATH=$(pwd):$PYTHONPATH python visualization/visualize_rainbow.py \\\n",
        "    --data-path ./dataset/tapvid-davis/$ID/ \\\n",
        "    --plot-trails\n",
        "\n",
        "copy_folder(f\"./dataset/tapvid-davis/{id}\", f\"/content/drive/My Drive/difdino/{id}\")"
      ]
    },
    {
      "cell_type": "markdown",
      "metadata": {
        "id": "V4NkV0OLrjC-"
      },
      "source": [
        "# Benchmark"
      ]
    },
    {
      "cell_type": "markdown",
      "source": [
        "Run eval prep"
      ],
      "metadata": {
        "id": "OabxuIymcURO"
      }
    },
    {
      "cell_type": "code",
      "source": [
        "!PYTHONPATH=$(pwd):$PYTHONPATH python ./preprocessing/save_dino_embed_video.py \\\n",
        "    --config ./config/preprocessing.yaml \\\n",
        "    --data-path ./dataset/tapvid-davis/$ID/\n",
        "\n",
        "!PYTHONPATH=$(pwd):$PYTHONPATH python inference_benchmark.py \\\n",
        "    --config ./config/train.yaml \\\n",
        "    --data-path ./dataset/tapvid-davis/$ID/ \\\n",
        "    --benchmark-pickle-path ./tapvid/tapvid_davis_data_strided_32-fix.pkl \\\n",
        "    --video-id $ID"
      ],
      "metadata": {
        "id": "8JawbdfvcFge"
      },
      "execution_count": null,
      "outputs": []
    },
    {
      "cell_type": "markdown",
      "source": [
        "**Single Video**"
      ],
      "metadata": {
        "id": "DRbVcq1ScSZm"
      }
    },
    {
      "cell_type": "code",
      "source": [
        "import os\n",
        "id = os.environ.get('ID')\n",
        "\n",
        "!PYTHONPATH=$(pwd):$PYTHONPATH python ./eval/eval_single_video.py --dataset-root-dir ./dataset/tapvid-davis --benchmark-pickle-path ./tapvid/tapvid_davis_data_strided_32.pkl --out-file ./$ID_metrics.csv --dataset-type tapvid --video-idx $ID"
      ],
      "metadata": {
        "id": "w1XkWh8scDUx"
      },
      "execution_count": null,
      "outputs": []
    },
    {
      "cell_type": "markdown",
      "metadata": {
        "id": "FMs-pTdMsC5u"
      },
      "source": [
        "**All 30 Videos**"
      ]
    },
    {
      "cell_type": "code",
      "execution_count": null,
      "metadata": {
        "id": "pIBrwWHOr9LI"
      },
      "outputs": [],
      "source": [
        "!PYTHONPATH=$(pwd):$PYTHONPATH python ./eval/eval_benchmark.py \\\n",
        "    --dataset-root-dir ./dataset/tapvid-davis \\\n",
        "    --benchmark-pickle-path ./tapvid/tapvid_davis_data_strided_32.pkl \\\n",
        "    --out-file ./tapvid/comp_metrics_davis.csv \\\n",
        "    --dataset-type tapvid"
      ]
    }
  ],
  "metadata": {
    "accelerator": "GPU",
    "colab": {
      "collapsed_sections": [
        "YPvOSL96fN9t",
        "dUkQDrS7fTkt",
        "V4NkV0OLrjC-"
      ],
      "gpuType": "A100",
      "machine_shape": "hm",
      "provenance": []
    },
    "kernelspec": {
      "display_name": "Python 3",
      "name": "python3"
    },
    "language_info": {
      "name": "python"
    }
  },
  "nbformat": 4,
  "nbformat_minor": 0
}